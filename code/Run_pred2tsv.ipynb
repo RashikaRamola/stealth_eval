{
 "cells": [
  {
   "cell_type": "code",
   "execution_count": 1,
   "id": "1aa14712",
   "metadata": {},
   "outputs": [],
   "source": [
    "#!pip3 install mat73\n",
    "import os"
   ]
  },
  {
   "cell_type": "code",
   "execution_count": 2,
   "id": "b144466e",
   "metadata": {},
   "outputs": [],
   "source": [
    "import scipy.io\n",
    "import numpy as np\n",
    "import pandas as pd\n",
    "import mat73"
   ]
  },
  {
   "cell_type": "code",
   "execution_count": 3,
   "id": "46357591",
   "metadata": {},
   "outputs": [],
   "source": [
    "cafa2_cafa3_baseline_map = {\n",
    "    '/data/yisupeng/sharing/cafa2/imported/bpo/BN4S.mat': '/data/common/CAFA4/baselines/python_extracted/cafa2/naive_bpo',\n",
    "    '/data/yisupeng/sharing/cafa2/imported/cco/BN4S.mat': '/data/common/CAFA4/baselines/python_extracted/cafa2/naive_cco',\n",
    "    '/data/yisupeng/sharing/cafa2/imported/mfo/BN4S.mat': '/data/common/CAFA4/baselines/python_extracted/cafa2/naive_mfo',\n",
    "    '/data/yisupeng/sharing/cafa3/imported/bpo/BN4S.mat': '/data/common/CAFA4/baselines/python_extracted/cafa3/naive_bpo',\n",
    "    '/data/yisupeng/sharing/cafa3/imported/cco/BN4S.mat': '/data/common/CAFA4/baselines/python_extracted/cafa3/naive_cco',\n",
    "    '/data/yisupeng/sharing/cafa3/imported/mfo/BN4S.mat': '/data/common/CAFA4/baselines/python_extracted/cafa3/naive_mfo',\n",
    "}   "
   ]
  },
  {
   "cell_type": "code",
   "execution_count": 4,
   "id": "48c22bb9",
   "metadata": {},
   "outputs": [],
   "source": [
    "# cafa4_baseline_map = {\n",
    "#     '/data/common/CAFA4/baselines/bpo/BB4S.mat': '/data/common/CAFA4/baselines/python_extracted/bpo/BB4S.tsv',\n",
    "#     '/data/common/CAFA4/baselines/cco/BB4S.mat': '/data/common/CAFA4/baselines/python_extracted/cco/BB4S.tsv',\n",
    "#     '/data/common/CAFA4/baselines/mfo/BB4S.mat': '/data/common/CAFA4/baselines/python_extracted/mfo/BB4S.tsv',\n",
    "#     '/data/common/CAFA4/baselines/bpo/BN4S.mat': '/data/common/CAFA4/baselines/python_extracted/bpo/BN4S.tsv',\n",
    "#     '/data/common/CAFA4/baselines/cco/BN4S.mat': '/data/common/CAFA4/baselines/python_extracted/cco/BN4S.tsv',\n",
    "#     '/data/common/CAFA4/baselines/mfo/BN4S.mat': '/data/common/CAFA4/baselines/python_extracted/mfo/BN4S.tsv'\n",
    "# }"
   ]
  },
  {
   "cell_type": "code",
   "execution_count": 5,
   "id": "610d0d28",
   "metadata": {},
   "outputs": [
    {
     "ename": "NameError",
     "evalue": "name 'cafa4_baseline_map' is not defined",
     "output_type": "error",
     "traceback": [
      "\u001b[0;31m---------------------------------------------------------------------------\u001b[0m",
      "\u001b[0;31mNameError\u001b[0m                                 Traceback (most recent call last)",
      "Cell \u001b[0;32mIn[5], line 1\u001b[0m\n\u001b[0;32m----> 1\u001b[0m \u001b[38;5;28;01mfor\u001b[39;00m matlab_path, output_path \u001b[38;5;129;01min\u001b[39;00m \u001b[43mcafa4_baseline_map\u001b[49m\u001b[38;5;241m.\u001b[39mitems():\n\u001b[1;32m      2\u001b[0m     cmd \u001b[38;5;241m=\u001b[39m \u001b[38;5;124m\"\u001b[39m\u001b[38;5;124mpython3 pred2tsv.py \u001b[39m\u001b[38;5;124m\"\u001b[39m \u001b[38;5;241m+\u001b[39m \u001b[38;5;124m\"\u001b[39m\u001b[38;5;124mnew \u001b[39m\u001b[38;5;124m\"\u001b[39m \u001b[38;5;241m+\u001b[39m matlab_path \u001b[38;5;241m+\u001b[39m \u001b[38;5;124m\"\u001b[39m\u001b[38;5;124m \u001b[39m\u001b[38;5;124m\"\u001b[39m \u001b[38;5;241m+\u001b[39m output_path \u001b[38;5;241m+\u001b[39m \u001b[38;5;124m\"\u001b[39m\u001b[38;5;124m > out.log &\u001b[39m\u001b[38;5;124m\"\u001b[39m \n\u001b[1;32m      3\u001b[0m     \u001b[38;5;28mprint\u001b[39m(cmd)\n",
      "\u001b[0;31mNameError\u001b[0m: name 'cafa4_baseline_map' is not defined"
     ]
    }
   ],
   "source": [
    "# for matlab_path, output_path in cafa4_baseline_map.items():\n",
    "#     cmd = \"python3 pred2tsv.py \" + \"new \" + matlab_path + \" \" + output_path + \" > out.log &\" \n",
    "#     print(cmd)\n",
    "#     os.system(cmd)"
   ]
  },
  {
   "cell_type": "code",
   "execution_count": 8,
   "id": "d229e236",
   "metadata": {},
   "outputs": [
    {
     "name": "stdout",
     "output_type": "stream",
     "text": [
      "python3 pred2tsv.py new /data/yisupeng/sharing/cafa2/imported/bpo/BN4S.mat /data/common/CAFA4/baselines/python_extracted/cafa2/naive_bpo > out.log &\n",
      "python3 pred2tsv.py new /data/yisupeng/sharing/cafa2/imported/cco/BN4S.mat /data/common/CAFA4/baselines/python_extracted/cafa2/naive_cco > out.log &\n",
      "python3 pred2tsv.py new /data/yisupeng/sharing/cafa2/imported/mfo/BN4S.mat /data/common/CAFA4/baselines/python_extracted/cafa2/naive_mfo > out.log &\n",
      "python3 pred2tsv.py new /data/yisupeng/sharing/cafa3/imported/bpo/BN4S.mat /data/common/CAFA4/baselines/python_extracted/cafa3/naive_bpo > out.log &\n",
      "python3 pred2tsv.py new /data/yisupeng/sharing/cafa3/imported/cco/BN4S.mat /data/common/CAFA4/baselines/python_extracted/cafa3/naive_cco > out.log &\n",
      "python3 pred2tsv.py new /data/yisupeng/sharing/cafa3/imported/mfo/BN4S.mat /data/common/CAFA4/baselines/python_extracted/cafa3/naive_mfo > out.log &\n"
     ]
    }
   ],
   "source": [
    "for matlab_path, output_path in cafa2_cafa3_baseline_map.items():\n",
    "    cmd = \"python3 pred2tsv.py \" + \"new \" + matlab_path + \" \" + output_path + \" > out.log &\" \n",
    "    print(cmd)\n",
    "    os.system(cmd)"
   ]
  },
  {
   "cell_type": "code",
   "execution_count": 5,
   "id": "0da8951b",
   "metadata": {},
   "outputs": [],
   "source": [
    "matlab_pred_path = '/home/rashika/Y_CAFA2_fix/CAFA2/baselines/bpo/BB4S.mat'\n",
    "output_path = '/home/rashika/Y_CAFA2_fix/CAFA2/test.tsv'"
   ]
  },
  {
   "cell_type": "code",
   "execution_count": 6,
   "id": "04a1ded2",
   "metadata": {},
   "outputs": [],
   "source": [
    "matlab_pred_path = '/data/common/CAFA4/baselines/mfo/BN4S.mat'"
   ]
  },
  {
   "cell_type": "markdown",
   "id": "c7e3933c",
   "metadata": {},
   "source": [
    "## Test if the file in the all_models folder is same as the file produced by concatenating files produced from the .mat file of each aspect\n",
    "\n",
    "By wc -l, the total number of lines in the naive generated from .mat files do not match the number of lines in the naive file in all_models. The latter is ~10 times in number of rows.\n",
    "\n",
    "3185954516 /data/yisupeng/sharing/cafa4/all_models/naive\\\n",
    "295659252 /data/common/CAFA4/baselines/python_extracted/cafa4/cco/BN4S.tsv\\\n",
    "109200 /data/common/CAFA4/baselines/python_extracted/cafa4/bpo/BN4S.tsv\\\n",
    "3185954516 /(295659252 + 33560 + 109200) ~ 10.77"
   ]
  },
  {
   "cell_type": "markdown",
   "id": "e47fdb89",
   "metadata": {},
   "source": [
    "### Compare the annotations, does the same protein have all the annotations in both the files? what's the difference?"
   ]
  },
  {
   "cell_type": "code",
   "execution_count": 26,
   "id": "81e43291",
   "metadata": {},
   "outputs": [],
   "source": [
    "#x = pd.read_csv('/data/common/CAFA4/baselines/python_extracted/cafa4/naive', sep = '\\t', header = None)\n",
    "y = pd.read_csv('/data/yisupeng/sharing/cafa4/all_models/naive', sep = '\\t', header = None, nrows = 50000)"
   ]
  },
  {
   "cell_type": "code",
   "execution_count": 32,
   "id": "71138db8",
   "metadata": {},
   "outputs": [
    {
     "data": {
      "text/plain": [
       "31420"
      ]
     },
     "execution_count": 32,
     "metadata": {},
     "output_type": "execute_result"
    }
   ],
   "source": [
    "sum(x.iloc[:,0]=='T100900000001')"
   ]
  },
  {
   "cell_type": "code",
   "execution_count": 33,
   "id": "a1479119",
   "metadata": {},
   "outputs": [
    {
     "data": {
      "text/plain": [
       "21840"
      ]
     },
     "execution_count": 33,
     "metadata": {},
     "output_type": "execute_result"
    }
   ],
   "source": [
    "sum(y.iloc[:,0]=='T100900000001')"
   ]
  },
  {
   "cell_type": "code",
   "execution_count": null,
   "id": "622c14a3",
   "metadata": {},
   "outputs": [],
   "source": [
    "print(len(x), len(y))"
   ]
  },
  {
   "cell_type": "code",
   "execution_count": null,
   "id": "5e4e324a",
   "metadata": {},
   "outputs": [],
   "source": [
    "x[:20]"
   ]
  },
  {
   "cell_type": "code",
   "execution_count": null,
   "id": "d33d6ea2",
   "metadata": {},
   "outputs": [],
   "source": []
  }
 ],
 "metadata": {
  "kernelspec": {
   "display_name": "Python 3 (ipykernel)",
   "language": "python",
   "name": "python3"
  },
  "language_info": {
   "codemirror_mode": {
    "name": "ipython",
    "version": 3
   },
   "file_extension": ".py",
   "mimetype": "text/x-python",
   "name": "python",
   "nbconvert_exporter": "python",
   "pygments_lexer": "ipython3",
   "version": "3.10.9"
  }
 },
 "nbformat": 4,
 "nbformat_minor": 5
}
