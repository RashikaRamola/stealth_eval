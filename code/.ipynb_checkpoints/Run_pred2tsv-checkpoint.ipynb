{
 "cells": [
  {
   "cell_type": "code",
   "execution_count": 220,
   "id": "6d6d609f",
   "metadata": {},
   "outputs": [
    {
     "name": "stdout",
     "output_type": "stream",
     "text": [
      "Requirement already satisfied: mat73 in /home/rashika/anaconda3/lib/python3.10/site-packages (0.63)\r\n",
      "Requirement already satisfied: h5py in /home/rashika/anaconda3/lib/python3.10/site-packages (from mat73) (3.7.0)\r\n",
      "Requirement already satisfied: numpy in /home/rashika/anaconda3/lib/python3.10/site-packages (from mat73) (1.23.5)\r\n"
     ]
    }
   ],
   "source": [
    "#!pip3 install mat73"
   ]
  },
  {
   "cell_type": "code",
   "execution_count": 221,
   "id": "b144466e",
   "metadata": {},
   "outputs": [],
   "source": [
    "import scipy.io\n",
    "import numpy as np\n",
    "import pandas as pd\n",
    "import mat73"
   ]
  },
  {
   "cell_type": "code",
   "execution_count": 208,
   "id": "f168ba45",
   "metadata": {},
   "outputs": [
    {
     "name": "stdout",
     "output_type": "stream",
     "text": [
      "BB4S.mat  BN4S.mat\r\n"
     ]
    }
   ],
   "source": [
    "ls /home/rashika/Y_CAFA2_fix/CAFA2/baselines/bpo"
   ]
  },
  {
   "cell_type": "code",
   "execution_count": 215,
   "id": "0da8951b",
   "metadata": {},
   "outputs": [],
   "source": [
    "matlab_pred_path = '/home/rashika/Y_CAFA2_fix/CAFA2/baselines/bpo/BB4S.mat'\n",
    "output_path = '/home/rashika/Y_CAFA2_fix/CAFA2/test.tsv'"
   ]
  },
  {
   "cell_type": "code",
   "execution_count": null,
   "id": "e8258cbe",
   "metadata": {},
   "outputs": [],
   "source": [
    "data_dict = mat73.loadmat('data.mat')"
   ]
  },
  {
   "cell_type": "code",
   "execution_count": 216,
   "id": "e5795b67",
   "metadata": {},
   "outputs": [
    {
     "ename": "OSError",
     "evalue": "Unable to open file (file signature not found)",
     "output_type": "error",
     "traceback": [
      "\u001b[0;31m---------------------------------------------------------------------------\u001b[0m",
      "\u001b[0;31mOSError\u001b[0m                                   Traceback (most recent call last)",
      "Cell \u001b[0;32mIn[216], line 1\u001b[0m\n\u001b[0;32m----> 1\u001b[0m \u001b[38;5;28;01mwith\u001b[39;00m \u001b[43mh5py\u001b[49m\u001b[38;5;241;43m.\u001b[39;49m\u001b[43mFile\u001b[49m\u001b[43m(\u001b[49m\u001b[43mmatlab_pred_path\u001b[49m\u001b[43m,\u001b[49m\u001b[43m \u001b[49m\u001b[38;5;124;43m'\u001b[39;49m\u001b[38;5;124;43mr\u001b[39;49m\u001b[38;5;124;43m'\u001b[39;49m\u001b[43m)\u001b[49m \u001b[38;5;28;01mas\u001b[39;00m f:\n\u001b[1;32m      2\u001b[0m         \u001b[38;5;66;03m# Access the data inside the MATLAB file\u001b[39;00m\n\u001b[1;32m      3\u001b[0m         \u001b[38;5;66;03m# Example: accessing a dataset named 'pred'\u001b[39;00m\n\u001b[1;32m      4\u001b[0m         pred_data \u001b[38;5;241m=\u001b[39m f[\u001b[38;5;124m'\u001b[39m\u001b[38;5;124mpred\u001b[39m\u001b[38;5;124m'\u001b[39m]\n\u001b[1;32m      6\u001b[0m         \u001b[38;5;66;03m# Example: Get the names of the proteins predicted for\u001b[39;00m\n",
      "File \u001b[0;32m~/anaconda3/lib/python3.10/site-packages/h5py/_hl/files.py:533\u001b[0m, in \u001b[0;36mFile.__init__\u001b[0;34m(self, name, mode, driver, libver, userblock_size, swmr, rdcc_nslots, rdcc_nbytes, rdcc_w0, track_order, fs_strategy, fs_persist, fs_threshold, fs_page_size, page_buf_size, min_meta_keep, min_raw_keep, locking, alignment_threshold, alignment_interval, **kwds)\u001b[0m\n\u001b[1;32m    525\u001b[0m     fapl \u001b[38;5;241m=\u001b[39m make_fapl(driver, libver, rdcc_nslots, rdcc_nbytes, rdcc_w0,\n\u001b[1;32m    526\u001b[0m                      locking, page_buf_size, min_meta_keep, min_raw_keep,\n\u001b[1;32m    527\u001b[0m                      alignment_threshold\u001b[38;5;241m=\u001b[39malignment_threshold,\n\u001b[1;32m    528\u001b[0m                      alignment_interval\u001b[38;5;241m=\u001b[39malignment_interval,\n\u001b[1;32m    529\u001b[0m                      \u001b[38;5;241m*\u001b[39m\u001b[38;5;241m*\u001b[39mkwds)\n\u001b[1;32m    530\u001b[0m     fcpl \u001b[38;5;241m=\u001b[39m make_fcpl(track_order\u001b[38;5;241m=\u001b[39mtrack_order, fs_strategy\u001b[38;5;241m=\u001b[39mfs_strategy,\n\u001b[1;32m    531\u001b[0m                      fs_persist\u001b[38;5;241m=\u001b[39mfs_persist, fs_threshold\u001b[38;5;241m=\u001b[39mfs_threshold,\n\u001b[1;32m    532\u001b[0m                      fs_page_size\u001b[38;5;241m=\u001b[39mfs_page_size)\n\u001b[0;32m--> 533\u001b[0m     fid \u001b[38;5;241m=\u001b[39m \u001b[43mmake_fid\u001b[49m\u001b[43m(\u001b[49m\u001b[43mname\u001b[49m\u001b[43m,\u001b[49m\u001b[43m \u001b[49m\u001b[43mmode\u001b[49m\u001b[43m,\u001b[49m\u001b[43m \u001b[49m\u001b[43muserblock_size\u001b[49m\u001b[43m,\u001b[49m\u001b[43m \u001b[49m\u001b[43mfapl\u001b[49m\u001b[43m,\u001b[49m\u001b[43m \u001b[49m\u001b[43mfcpl\u001b[49m\u001b[43m,\u001b[49m\u001b[43m \u001b[49m\u001b[43mswmr\u001b[49m\u001b[38;5;241;43m=\u001b[39;49m\u001b[43mswmr\u001b[49m\u001b[43m)\u001b[49m\n\u001b[1;32m    535\u001b[0m \u001b[38;5;28;01mif\u001b[39;00m \u001b[38;5;28misinstance\u001b[39m(libver, \u001b[38;5;28mtuple\u001b[39m):\n\u001b[1;32m    536\u001b[0m     \u001b[38;5;28mself\u001b[39m\u001b[38;5;241m.\u001b[39m_libver \u001b[38;5;241m=\u001b[39m libver\n",
      "File \u001b[0;32m~/anaconda3/lib/python3.10/site-packages/h5py/_hl/files.py:226\u001b[0m, in \u001b[0;36mmake_fid\u001b[0;34m(name, mode, userblock_size, fapl, fcpl, swmr)\u001b[0m\n\u001b[1;32m    224\u001b[0m     \u001b[38;5;28;01mif\u001b[39;00m swmr \u001b[38;5;129;01mand\u001b[39;00m swmr_support:\n\u001b[1;32m    225\u001b[0m         flags \u001b[38;5;241m|\u001b[39m\u001b[38;5;241m=\u001b[39m h5f\u001b[38;5;241m.\u001b[39mACC_SWMR_READ\n\u001b[0;32m--> 226\u001b[0m     fid \u001b[38;5;241m=\u001b[39m \u001b[43mh5f\u001b[49m\u001b[38;5;241;43m.\u001b[39;49m\u001b[43mopen\u001b[49m\u001b[43m(\u001b[49m\u001b[43mname\u001b[49m\u001b[43m,\u001b[49m\u001b[43m \u001b[49m\u001b[43mflags\u001b[49m\u001b[43m,\u001b[49m\u001b[43m \u001b[49m\u001b[43mfapl\u001b[49m\u001b[38;5;241;43m=\u001b[39;49m\u001b[43mfapl\u001b[49m\u001b[43m)\u001b[49m\n\u001b[1;32m    227\u001b[0m \u001b[38;5;28;01melif\u001b[39;00m mode \u001b[38;5;241m==\u001b[39m \u001b[38;5;124m'\u001b[39m\u001b[38;5;124mr+\u001b[39m\u001b[38;5;124m'\u001b[39m:\n\u001b[1;32m    228\u001b[0m     fid \u001b[38;5;241m=\u001b[39m h5f\u001b[38;5;241m.\u001b[39mopen(name, h5f\u001b[38;5;241m.\u001b[39mACC_RDWR, fapl\u001b[38;5;241m=\u001b[39mfapl)\n",
      "File \u001b[0;32mh5py/_objects.pyx:54\u001b[0m, in \u001b[0;36mh5py._objects.with_phil.wrapper\u001b[0;34m()\u001b[0m\n",
      "File \u001b[0;32mh5py/_objects.pyx:55\u001b[0m, in \u001b[0;36mh5py._objects.with_phil.wrapper\u001b[0;34m()\u001b[0m\n",
      "File \u001b[0;32mh5py/h5f.pyx:106\u001b[0m, in \u001b[0;36mh5py.h5f.open\u001b[0;34m()\u001b[0m\n",
      "\u001b[0;31mOSError\u001b[0m: Unable to open file (file signature not found)"
     ]
    }
   ],
   "source": [
    "with h5py.File(matlab_pred_path, 'r') as f:\n",
    "        # Access the data inside the MATLAB file\n",
    "        # Example: accessing a dataset named 'pred'\n",
    "        pred_data = f['pred']\n",
    "\n",
    "        # Example: Get the names of the proteins predicted for\n",
    "        proteins = pred_data['object'][0, 0].flatten()\n",
    "        print(len(proteins))\n",
    "        # Process your data further as needed\n",
    "        # Example: Writing to output_path\n",
    "        #with open(output_path, 'w') as outfile:\n",
    "        #    for protein in proteins:\n",
    "        #        outfile.write(f\"{protein}\\n\")"
   ]
  },
  {
   "cell_type": "code",
   "execution_count": null,
   "id": "bc58dd04",
   "metadata": {},
   "outputs": [],
   "source": []
  },
  {
   "cell_type": "code",
   "execution_count": 217,
   "id": "27d19c3a",
   "metadata": {},
   "outputs": [],
   "source": [
    "def pred2tsv(matlab_pred_path, output_path):\n",
    "    mat = scipy.io.loadmat(matlab_pred_path)\n",
    "    \n",
    "    # Get the names of the proteins predicted for\n",
    "    proteins = mat['pred']['object'][0, 0].flatten()\n",
    "    proteins = [item[0] for item in proteins]\n",
    "    \n",
    "    # Get the GO terms in the ontology\n",
    "    terms = []\n",
    "    for i in range(np.size(mat['pred']['score'][0, 0],1)):\n",
    "        terms.append(mat['pred']['ontology'][0, 0][0][0][0][i][0][0][0])\n",
    "        \n",
    "    GO_index = list(range(len(terms))) \n",
    "    prediction = []\n",
    "    for i, protein in enumerate(proteins):\n",
    "        non_zero_mask = mat['pred']['score'][0, 0].toarray()[i]!=0\n",
    "        score_indices = [index for index, condition in zip(GO_index, non_zero_mask) if condition]\n",
    "        selected_terms = [terms[index] for index in score_indices]\n",
    "        selected_score = mat['pred']['score'][0, 0].toarray()[i] [non_zero_mask]\n",
    "        prediction.append(pd.DataFrame([[protein]*len(selected_terms), selected_terms, list(selected_score)]).T)\n",
    "        \n",
    "    prediction_df = pd.concat(prediction)\n",
    "    prediction_df.to_csv(output_path, sep = '\\t', index = False, header = None)\n",
    "\n"
   ]
  },
  {
   "cell_type": "code",
   "execution_count": 218,
   "id": "3c7b4720",
   "metadata": {},
   "outputs": [
    {
     "ename": "NotImplementedError",
     "evalue": "Please use HDF reader for matlab v7.3 files, e.g. h5py",
     "output_type": "error",
     "traceback": [
      "\u001b[0;31m---------------------------------------------------------------------------\u001b[0m",
      "\u001b[0;31mNotImplementedError\u001b[0m                       Traceback (most recent call last)",
      "Cell \u001b[0;32mIn[218], line 9\u001b[0m\n\u001b[1;32m      6\u001b[0m out_CCO \u001b[38;5;241m=\u001b[39m \u001b[38;5;124m'\u001b[39m\u001b[38;5;124m/data/common/CAFA4/baselines/python_extracted/cco/BB4S.tsv\u001b[39m\u001b[38;5;124m'\u001b[39m\n\u001b[1;32m      7\u001b[0m out_MFO \u001b[38;5;241m=\u001b[39m \u001b[38;5;124m'\u001b[39m\u001b[38;5;124m/data/common/CAFA4/baselines/python_extracted/mfo/BB4S.tsv\u001b[39m\u001b[38;5;124m'\u001b[39m\n\u001b[0;32m----> 9\u001b[0m \u001b[43mpred2tsv\u001b[49m\u001b[43m(\u001b[49m\u001b[43mBPO\u001b[49m\u001b[43m,\u001b[49m\u001b[43m \u001b[49m\u001b[43mout_BPO\u001b[49m\u001b[43m)\u001b[49m\n\u001b[1;32m     10\u001b[0m pred2tsv(CCO, out_CCO)\n\u001b[1;32m     11\u001b[0m pred2tsv(MFO, out_MFO)\n",
      "Cell \u001b[0;32mIn[217], line 2\u001b[0m, in \u001b[0;36mpred2tsv\u001b[0;34m(matlab_pred_path, output_path)\u001b[0m\n\u001b[1;32m      1\u001b[0m \u001b[38;5;28;01mdef\u001b[39;00m \u001b[38;5;21mpred2tsv\u001b[39m(matlab_pred_path, output_path):\n\u001b[0;32m----> 2\u001b[0m     mat \u001b[38;5;241m=\u001b[39m \u001b[43mscipy\u001b[49m\u001b[38;5;241;43m.\u001b[39;49m\u001b[43mio\u001b[49m\u001b[38;5;241;43m.\u001b[39;49m\u001b[43mloadmat\u001b[49m\u001b[43m(\u001b[49m\u001b[43mmatlab_pred_path\u001b[49m\u001b[43m)\u001b[49m\n\u001b[1;32m      4\u001b[0m     \u001b[38;5;66;03m# Get the names of the proteins predicted for\u001b[39;00m\n\u001b[1;32m      5\u001b[0m     proteins \u001b[38;5;241m=\u001b[39m mat[\u001b[38;5;124m'\u001b[39m\u001b[38;5;124mpred\u001b[39m\u001b[38;5;124m'\u001b[39m][\u001b[38;5;124m'\u001b[39m\u001b[38;5;124mobject\u001b[39m\u001b[38;5;124m'\u001b[39m][\u001b[38;5;241m0\u001b[39m, \u001b[38;5;241m0\u001b[39m]\u001b[38;5;241m.\u001b[39mflatten()\n",
      "File \u001b[0;32m~/anaconda3/lib/python3.10/site-packages/scipy/io/matlab/_mio.py:226\u001b[0m, in \u001b[0;36mloadmat\u001b[0;34m(file_name, mdict, appendmat, **kwargs)\u001b[0m\n\u001b[1;32m    224\u001b[0m variable_names \u001b[38;5;241m=\u001b[39m kwargs\u001b[38;5;241m.\u001b[39mpop(\u001b[38;5;124m'\u001b[39m\u001b[38;5;124mvariable_names\u001b[39m\u001b[38;5;124m'\u001b[39m, \u001b[38;5;28;01mNone\u001b[39;00m)\n\u001b[1;32m    225\u001b[0m \u001b[38;5;28;01mwith\u001b[39;00m _open_file_context(file_name, appendmat) \u001b[38;5;28;01mas\u001b[39;00m f:\n\u001b[0;32m--> 226\u001b[0m     MR, _ \u001b[38;5;241m=\u001b[39m \u001b[43mmat_reader_factory\u001b[49m\u001b[43m(\u001b[49m\u001b[43mf\u001b[49m\u001b[43m,\u001b[49m\u001b[43m \u001b[49m\u001b[38;5;241;43m*\u001b[39;49m\u001b[38;5;241;43m*\u001b[39;49m\u001b[43mkwargs\u001b[49m\u001b[43m)\u001b[49m\n\u001b[1;32m    227\u001b[0m     matfile_dict \u001b[38;5;241m=\u001b[39m MR\u001b[38;5;241m.\u001b[39mget_variables(variable_names)\n\u001b[1;32m    229\u001b[0m \u001b[38;5;28;01mif\u001b[39;00m mdict \u001b[38;5;129;01mis\u001b[39;00m \u001b[38;5;129;01mnot\u001b[39;00m \u001b[38;5;28;01mNone\u001b[39;00m:\n",
      "File \u001b[0;32m~/anaconda3/lib/python3.10/site-packages/scipy/io/matlab/_mio.py:80\u001b[0m, in \u001b[0;36mmat_reader_factory\u001b[0;34m(file_name, appendmat, **kwargs)\u001b[0m\n\u001b[1;32m     78\u001b[0m     \u001b[38;5;28;01mreturn\u001b[39;00m MatFile5Reader(byte_stream, \u001b[38;5;241m*\u001b[39m\u001b[38;5;241m*\u001b[39mkwargs), file_opened\n\u001b[1;32m     79\u001b[0m \u001b[38;5;28;01melif\u001b[39;00m mjv \u001b[38;5;241m==\u001b[39m \u001b[38;5;241m2\u001b[39m:\n\u001b[0;32m---> 80\u001b[0m     \u001b[38;5;28;01mraise\u001b[39;00m \u001b[38;5;167;01mNotImplementedError\u001b[39;00m(\u001b[38;5;124m'\u001b[39m\u001b[38;5;124mPlease use HDF reader for matlab v7.3 \u001b[39m\u001b[38;5;124m'\u001b[39m\n\u001b[1;32m     81\u001b[0m                               \u001b[38;5;124m'\u001b[39m\u001b[38;5;124mfiles, e.g. h5py\u001b[39m\u001b[38;5;124m'\u001b[39m)\n\u001b[1;32m     82\u001b[0m \u001b[38;5;28;01melse\u001b[39;00m:\n\u001b[1;32m     83\u001b[0m     \u001b[38;5;28;01mraise\u001b[39;00m \u001b[38;5;167;01mTypeError\u001b[39;00m(\u001b[38;5;124m'\u001b[39m\u001b[38;5;124mDid not recognize version \u001b[39m\u001b[38;5;132;01m%s\u001b[39;00m\u001b[38;5;124m'\u001b[39m \u001b[38;5;241m%\u001b[39m mjv)\n",
      "\u001b[0;31mNotImplementedError\u001b[0m: Please use HDF reader for matlab v7.3 files, e.g. h5py"
     ]
    }
   ],
   "source": [
    "#BLAST\n",
    "BPO = '/data/common/CAFA4/baselines/bpo/BB4S.mat'\n",
    "CCO = '/data/common/CAFA4/baselines/cco/BB4S.mat'\n",
    "MFO = '/data/common/CAFA4/baselines/mfo/BB4S.mat'\n",
    "out_BPO = '/data/common/CAFA4/baselines/python_extracted/bpo/BB4S.tsv'\n",
    "out_CCO = '/data/common/CAFA4/baselines/python_extracted/cco/BB4S.tsv'\n",
    "out_MFO = '/data/common/CAFA4/baselines/python_extracted/mfo/BB4S.tsv'\n",
    "\n",
    "pred2tsv(BPO, out_BPO)\n",
    "pred2tsv(CCO, out_CCO)\n",
    "pred2tsv(MFO, out_MFO)"
   ]
  },
  {
   "cell_type": "code",
   "execution_count": null,
   "id": "808c02e4",
   "metadata": {},
   "outputs": [],
   "source": [
    "cafa4_blast\n",
    "pred2tsv(matlab_pred_path, output_path)"
   ]
  },
  {
   "cell_type": "code",
   "execution_count": null,
   "id": "d01cb3e7",
   "metadata": {},
   "outputs": [],
   "source": [
    "pred2tsv(matlab_pred_path, output_path)"
   ]
  },
  {
   "cell_type": "code",
   "execution_count": 28,
   "id": "026196bd",
   "metadata": {},
   "outputs": [
    {
     "data": {
      "text/plain": [
       "array([[<1350x24936 sparse matrix of type '<class 'numpy.float64'>'\n",
       "        \twith 899257 stored elements in Compressed Sparse Column format>]],\n",
       "      dtype=object)"
      ]
     },
     "execution_count": 28,
     "metadata": {},
     "output_type": "execute_result"
    }
   ],
   "source": [
    "mat['pred']['score']"
   ]
  },
  {
   "cell_type": "code",
   "execution_count": 139,
   "id": "e733a59c",
   "metadata": {},
   "outputs": [],
   "source": [
    "proteins = mat['pred']['object'][0, 0].flatten()\n",
    "proteins = [item[0] for item in proteins]\n",
    "terms = []\n",
    "for i in range(np.size(mat['pred']['score'][0, 0],1)):\n",
    "    terms.append(mat['pred']['ontology'][0, 0][0][0][0][i][0][0][0])\n"
   ]
  },
  {
   "cell_type": "code",
   "execution_count": 140,
   "id": "4b7faee3",
   "metadata": {},
   "outputs": [
    {
     "data": {
      "text/plain": [
       "24936"
      ]
     },
     "execution_count": 140,
     "metadata": {},
     "output_type": "execute_result"
    }
   ],
   "source": [
    "len(terms)"
   ]
  },
  {
   "cell_type": "code",
   "execution_count": 158,
   "id": "1147cbdf",
   "metadata": {},
   "outputs": [
    {
     "data": {
      "text/plain": [
       "['T100900000082',\n",
       " 'T100900000083',\n",
       " 'T100900000118',\n",
       " 'T100900000184',\n",
       " 'T100900000205']"
      ]
     },
     "execution_count": 158,
     "metadata": {},
     "output_type": "execute_result"
    }
   ],
   "source": [
    "proteins[:5]"
   ]
  },
  {
   "cell_type": "code",
   "execution_count": 188,
   "id": "f8424cac",
   "metadata": {},
   "outputs": [],
   "source": [
    "GO_index = list(range(len(terms))) \n",
    "prediction = []\n",
    "for i, protein in enumerate(proteins[:5]):\n",
    "    non_zero_mask = mat['pred']['score'][0, 0].toarray()[i]!=0\n",
    "    score_indices = [index for index, condition in zip(GO_index, non_zero_mask) if condition]\n",
    "    selected_terms = [terms[index] for index in score_indices]\n",
    "    selected_score = mat['pred']['score'][0, 0].toarray()[i] [non_zero_mask]\n",
    "    prediction.append(pd.DataFrame([[protein]*len(selected_terms), selected_terms, list(selected_score)]).T)\n",
    "    "
   ]
  },
  {
   "cell_type": "code",
   "execution_count": 189,
   "id": "f844671a",
   "metadata": {},
   "outputs": [
    {
     "data": {
      "text/html": [
       "<div>\n",
       "<style scoped>\n",
       "    .dataframe tbody tr th:only-of-type {\n",
       "        vertical-align: middle;\n",
       "    }\n",
       "\n",
       "    .dataframe tbody tr th {\n",
       "        vertical-align: top;\n",
       "    }\n",
       "\n",
       "    .dataframe thead th {\n",
       "        text-align: right;\n",
       "    }\n",
       "</style>\n",
       "<table border=\"1\" class=\"dataframe\">\n",
       "  <thead>\n",
       "    <tr style=\"text-align: right;\">\n",
       "      <th></th>\n",
       "      <th>0</th>\n",
       "      <th>1</th>\n",
       "      <th>2</th>\n",
       "    </tr>\n",
       "  </thead>\n",
       "  <tbody>\n",
       "    <tr>\n",
       "      <th>0</th>\n",
       "      <td>T100900000082</td>\n",
       "      <td>GO:0001525</td>\n",
       "      <td>0.4286</td>\n",
       "    </tr>\n",
       "    <tr>\n",
       "      <th>1</th>\n",
       "      <td>T100900000082</td>\n",
       "      <td>GO:0001568</td>\n",
       "      <td>0.4286</td>\n",
       "    </tr>\n",
       "    <tr>\n",
       "      <th>2</th>\n",
       "      <td>T100900000082</td>\n",
       "      <td>GO:0001569</td>\n",
       "      <td>0.4286</td>\n",
       "    </tr>\n",
       "    <tr>\n",
       "      <th>3</th>\n",
       "      <td>T100900000082</td>\n",
       "      <td>GO:0001763</td>\n",
       "      <td>0.4286</td>\n",
       "    </tr>\n",
       "    <tr>\n",
       "      <th>4</th>\n",
       "      <td>T100900000082</td>\n",
       "      <td>GO:0001944</td>\n",
       "      <td>0.4286</td>\n",
       "    </tr>\n",
       "    <tr>\n",
       "      <th>...</th>\n",
       "      <td>...</td>\n",
       "      <td>...</td>\n",
       "      <td>...</td>\n",
       "    </tr>\n",
       "    <tr>\n",
       "      <th>428</th>\n",
       "      <td>T100900000205</td>\n",
       "      <td>GO:2000026</td>\n",
       "      <td>0.4369</td>\n",
       "    </tr>\n",
       "    <tr>\n",
       "      <th>429</th>\n",
       "      <td>T100900000205</td>\n",
       "      <td>GO:2000145</td>\n",
       "      <td>0.4474</td>\n",
       "    </tr>\n",
       "    <tr>\n",
       "      <th>430</th>\n",
       "      <td>T100900000205</td>\n",
       "      <td>GO:2000147</td>\n",
       "      <td>0.4474</td>\n",
       "    </tr>\n",
       "    <tr>\n",
       "      <th>431</th>\n",
       "      <td>T100900000205</td>\n",
       "      <td>GO:2000377</td>\n",
       "      <td>0.8186</td>\n",
       "    </tr>\n",
       "    <tr>\n",
       "      <th>432</th>\n",
       "      <td>T100900000205</td>\n",
       "      <td>GO:2000379</td>\n",
       "      <td>0.8186</td>\n",
       "    </tr>\n",
       "  </tbody>\n",
       "</table>\n",
       "<p>3629 rows × 3 columns</p>\n",
       "</div>"
      ],
      "text/plain": [
       "                 0           1       2\n",
       "0    T100900000082  GO:0001525  0.4286\n",
       "1    T100900000082  GO:0001568  0.4286\n",
       "2    T100900000082  GO:0001569  0.4286\n",
       "3    T100900000082  GO:0001763  0.4286\n",
       "4    T100900000082  GO:0001944  0.4286\n",
       "..             ...         ...     ...\n",
       "428  T100900000205  GO:2000026  0.4369\n",
       "429  T100900000205  GO:2000145  0.4474\n",
       "430  T100900000205  GO:2000147  0.4474\n",
       "431  T100900000205  GO:2000377  0.8186\n",
       "432  T100900000205  GO:2000379  0.8186\n",
       "\n",
       "[3629 rows x 3 columns]"
      ]
     },
     "execution_count": 189,
     "metadata": {},
     "output_type": "execute_result"
    }
   ],
   "source": []
  },
  {
   "cell_type": "code",
   "execution_count": 148,
   "id": "bc16b660",
   "metadata": {},
   "outputs": [
    {
     "ename": "ValueError",
     "evalue": "The truth value of an array with more than one element is ambiguous. Use a.any() or a.all()",
     "output_type": "error",
     "traceback": [
      "\u001b[0;31m---------------------------------------------------------------------------\u001b[0m",
      "\u001b[0;31mValueError\u001b[0m                                Traceback (most recent call last)",
      "Cell \u001b[0;32mIn[148], line 1\u001b[0m\n\u001b[0;32m----> 1\u001b[0m \u001b[38;5;129;43;01mnot\u001b[39;49;00m\u001b[43m(\u001b[49m\u001b[43mmat\u001b[49m\u001b[43m[\u001b[49m\u001b[38;5;124;43m'\u001b[39;49m\u001b[38;5;124;43mpred\u001b[39;49m\u001b[38;5;124;43m'\u001b[39;49m\u001b[43m]\u001b[49m\u001b[43m[\u001b[49m\u001b[38;5;124;43m'\u001b[39;49m\u001b[38;5;124;43mscore\u001b[39;49m\u001b[38;5;124;43m'\u001b[39;49m\u001b[43m]\u001b[49m\u001b[43m[\u001b[49m\u001b[38;5;241;43m0\u001b[39;49m\u001b[43m,\u001b[49m\u001b[43m \u001b[49m\u001b[38;5;241;43m0\u001b[39;49m\u001b[43m]\u001b[49m\u001b[38;5;241;43m.\u001b[39;49m\u001b[43mtoarray\u001b[49m\u001b[43m(\u001b[49m\u001b[43m)\u001b[49m\u001b[43m[\u001b[49m\u001b[43mi\u001b[49m\u001b[43m]\u001b[49m\u001b[38;5;241;43m==\u001b[39;49m\u001b[38;5;241;43m0\u001b[39;49m\u001b[43m)\u001b[49m\n",
      "\u001b[0;31mValueError\u001b[0m: The truth value of an array with more than one element is ambiguous. Use a.any() or a.all()"
     ]
    }
   ],
   "source": [
    "not(mat['pred']['score'][0, 0].toarray()[i]==0)"
   ]
  },
  {
   "cell_type": "code",
   "execution_count": 127,
   "id": "4b1cc7dd",
   "metadata": {},
   "outputs": [
    {
     "data": {
      "text/plain": [
       "'GO:0000003'"
      ]
     },
     "execution_count": 127,
     "metadata": {},
     "output_type": "execute_result"
    }
   ],
   "source": []
  },
  {
   "cell_type": "code",
   "execution_count": 58,
   "id": "d6454d58",
   "metadata": {},
   "outputs": [
    {
     "ename": "AttributeError",
     "evalue": "'numpy.ndarray' object has no attribute 'toarray'",
     "output_type": "error",
     "traceback": [
      "\u001b[0;31m---------------------------------------------------------------------------\u001b[0m",
      "\u001b[0;31mAttributeError\u001b[0m                            Traceback (most recent call last)",
      "Cell \u001b[0;32mIn[58], line 1\u001b[0m\n\u001b[0;32m----> 1\u001b[0m \u001b[43mmat\u001b[49m\u001b[43m[\u001b[49m\u001b[38;5;124;43m'\u001b[39;49m\u001b[38;5;124;43mpred\u001b[39;49m\u001b[38;5;124;43m'\u001b[39;49m\u001b[43m]\u001b[49m\u001b[43m[\u001b[49m\u001b[38;5;124;43m'\u001b[39;49m\u001b[38;5;124;43mscore\u001b[39;49m\u001b[38;5;124;43m'\u001b[39;49m\u001b[43m]\u001b[49m\u001b[43m[\u001b[49m\u001b[38;5;241;43m0\u001b[39;49m\u001b[43m,\u001b[49m\u001b[43m \u001b[49m\u001b[43m:\u001b[49m\u001b[43m]\u001b[49m\u001b[38;5;241;43m.\u001b[39;49m\u001b[43mtoarray\u001b[49m()\n",
      "\u001b[0;31mAttributeError\u001b[0m: 'numpy.ndarray' object has no attribute 'toarray'"
     ]
    }
   ],
   "source": [
    "mat['pred']['score'][0, :].toarray()"
   ]
  },
  {
   "cell_type": "code",
   "execution_count": null,
   "id": "99190cd6",
   "metadata": {},
   "outputs": [],
   "source": []
  }
 ],
 "metadata": {
  "kernelspec": {
   "display_name": "Python 3 (ipykernel)",
   "language": "python",
   "name": "python3"
  },
  "language_info": {
   "codemirror_mode": {
    "name": "ipython",
    "version": 3
   },
   "file_extension": ".py",
   "mimetype": "text/x-python",
   "name": "python",
   "nbconvert_exporter": "python",
   "pygments_lexer": "ipython3",
   "version": "3.10.9"
  }
 },
 "nbformat": 4,
 "nbformat_minor": 5
}
