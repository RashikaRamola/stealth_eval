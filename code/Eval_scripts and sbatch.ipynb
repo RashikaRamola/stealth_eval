{
 "cells": [
  {
   "cell_type": "markdown",
   "id": "94779dc4",
   "metadata": {},
   "source": [
    "### CAFA 4 - t0_2025"
   ]
  },
  {
   "cell_type": "code",
   "execution_count": null,
   "id": "9956c7da",
   "metadata": {},
   "outputs": [],
   "source": [
    "import os\n",
    "\n",
    "# Define paths\n",
    "OBO_FILE = \"/work/pedjas_lab/rashika/CAFA/GO_ont/go_2019_10_07/go-basic.obo\"\n",
    "PREDICTION_DIR = \"/work/pedjas_lab/rashika/CAFA/predictions/prediction_folders/CAFA4\"\n",
    "GT_FILES = [\n",
    "    (\"type1\", \"/scratch/ramola.r/ground_truth_lists/2025-03-07/C4/type1.txt\", None),  # No known file\n",
    "    (\"type2\", \"/scratch/ramola.r/ground_truth_lists/2025-03-07/C4/type2.txt\", None),  # No known file\n",
    "    (\"type3\", \"/scratch/ramola.r/ground_truth_lists/2025-03-07/C4/type3.txt\", \"/scratch/ramola.r/mapped/2019-12-17/t0_2019.csv\")  # Has -known parameter\n",
    "]\n",
    "RESULTS_DIR = \"/scratch/ramola.r/evaluations/2025-03-07/C4\"\n",
    "IA_FILE = \"/work/pedjas_lab/rashika/CAFA/IA_files/GOA_195_gaf_GO_2019_10_07/IA.txt\"\n",
    "\n",
    "# Output file for saving commands\n",
    "output_file = \"CAFA4_eval_scripts.txt\"\n",
    "\n",
    "# Prepare a dictionary to store commands sorted by type\n",
    "commands_by_type = {\"type1\": [], \"type2\": [], \"type3\": []}\n",
    "\n",
    "# Iterate through GT files in order (type1 → type2 → type3)\n",
    "for gt_name, gt_file, known_file in GT_FILES:\n",
    "    type_path = os.path.join(RESULTS_DIR, gt_name)\n",
    "\n",
    "    # Iterate through each method folder in the predictions directory\n",
    "    for method in sorted(os.listdir(PREDICTION_DIR)):  # Sort for consistency\n",
    "        method_path = os.path.join(PREDICTION_DIR, method)\n",
    "\n",
    "        if os.path.isdir(method_path):  # Ensure it's a directory\n",
    "            method_results_dir = os.path.join(type_path, method)\n",
    "\n",
    "            # Base command\n",
    "            command = (\n",
    "                f\"python3 /work/pedjas_lab/rashika/CAFA/code/CAFA-evaluator-NEU/src/cafaeval/__main__.py \"\n",
    "                f\"{OBO_FILE} {method_path} {gt_file} \"\n",
    "                f\"-out_dir {method_results_dir} \"\n",
    "                f\"-ia {IA_FILE} -prop fill -threads 6 -th_step 0.001 -no_orphans \"\n",
    "                                                                                                                                                      1,1           Top\n",
    "\n",
    "\n"
   ]
  }
 ],
 "metadata": {
  "kernelspec": {
   "display_name": "Python 3 (ipykernel)",
   "language": "python",
   "name": "python3"
  },
  "language_info": {
   "codemirror_mode": {
    "name": "ipython",
    "version": 3
   },
   "file_extension": ".py",
   "mimetype": "text/x-python",
   "name": "python",
   "nbconvert_exporter": "python",
   "pygments_lexer": "ipython3",
   "version": "3.10.9"
  }
 },
 "nbformat": 4,
 "nbformat_minor": 5
}
